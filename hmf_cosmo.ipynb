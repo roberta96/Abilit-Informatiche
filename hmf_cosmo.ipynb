{
 "cells": [
  {
   "cell_type": "code",
   "execution_count": null,
   "metadata": {},
   "outputs": [],
   "source": [
    "import numpy as np\n",
    "#import pylab as plt\n",
    "import pyccl as ccl\n",
    "import matplotlib.pyplot as plt\n",
    "from astropy.cosmology import Planck13\n",
    "from astropy.cosmology import FlatLambdaCDM as FLCDM\n",
    "%matplotlib inline"
   ]
  },
  {
   "cell_type": "code",
   "execution_count": null,
   "metadata": {},
   "outputs": [],
   "source": [
    "def bins_labels(bins, **kwargs):\n",
    "    bin_w = 0.025\n",
    "    plt.xticks(np.arange(min(bins)+bin_w, max(bins)+bin_w, 2*bin_w), bins, **kwargs)\n",
    "\n",
    "\n",
    "GCdata = np.loadtxt('cat.txt', usecols=(0,1))\n",
    "#print(GCdata.shape)\n",
    "\n",
    "M = GCdata[:,0]\n",
    "z = GCdata[:,1]\n",
    "\n",
    "#print(len(M), len(z))\n",
    "#plt.scatter(M, 1+z)"
   ]
  },
  {
   "cell_type": "code",
   "execution_count": null,
   "metadata": {},
   "outputs": [],
   "source": [
    "values_omegam = np.arange(0.15, 0.45, 0.1)\n",
    "values_omegam = np.append(values_omegam, 0.32)\n",
    "values_omegam = np.sort(values_omegam)\n",
    "\n",
    "for r in values_omegam:\n",
    "    cosmo = ccl.Cosmology(Omega_c=0.86*r, Omega_b=0.14*r, h=0.67, A_s=2.1e-9, n_s=0.96)\n",
    "    cs = ccl.halos.MassFuncPress74(cosmo)\n",
    "    \n",
    "    cosmo_vol = FLCDM(H0 = 67.3, Om0 = r)\n",
    "\n",
    "    z_bin = np.arange(0.05, 2.15, 0.1)\n",
    "    #print(z_bin)\n",
    "    M_bin = np.arange(14.025, 15.525, 0.05)\n",
    "    #print(M_bin)\n",
    "\n",
    "    bins = np.round(np.arange(14,15.6,0.05),3)\n",
    "\n",
    "    i = 0\n",
    "    k = 0\n",
    "    log_l = []\n",
    "    for red in z_bin:\n",
    "        M_z = M[(z>=red-0.05) & (z<red+0.05)]\n",
    "        plt.figure()\n",
    "        n_obs, bins_hist, patches = plt.hist(M_z, bins, edgecolor = 'r', facecolor = 'red', alpha = 0.2)\n",
    "\n",
    "        N = []\n",
    "        log_p = []\n",
    "        j = 0\n",
    "        for mass in M_bin:\n",
    "            ind_exp = np.arange(mass-0.025, mass+0.025,0.005)\n",
    "            masses = 10**ind_exp\n",
    "            nm = cs.get_mass_function(cosmo, masses, 1/(1+red))\n",
    "            v_min = cosmo_vol.comoving_volume(red-0.05).value \n",
    "            v_max = cosmo_vol.comoving_volume(red+0.05).value \n",
    "            v_shell = (v_max-v_min)*0.36\n",
    "            #print(v_max, v_min, v_shell)\n",
    "            Nm = nm*v_shell\n",
    "            k = np.trapz(Nm, x = ind_exp)\n",
    "            N.append(k)\n",
    "            log_p.append(n_obs[j]*np.log(k)-k)\n",
    "            j += 1\n",
    "        log_l.append(np.sum(log_p))  \n",
    "        #bins_labels(bins, fontsize = 10)\n",
    "        #plt.scatter(M_bin, N, marker = '.')\n",
    "        #plt.savefig('mass_distr_%d.png' %i, bbox_inches = 'tight')\n",
    "        plt.close()\n",
    "        i += 1\n",
    "    #print(log_l)\n",
    "    plt.scatter(z_bin, log_l, label='Om = %.2f'%r) \n",
    "    plt.xlabel('z')\n",
    "    plt.ylabel('Log(L)')\n",
    "    plt.legend()\n",
    "    plt.savefig('likel_om.png', bbox_inches = 'tight')"
   ]
  }
 ],
 "metadata": {
  "kernelspec": {
   "display_name": "Python 3",
   "language": "python",
   "name": "python3"
  },
  "language_info": {
   "codemirror_mode": {
    "name": "ipython",
    "version": 3
   },
   "file_extension": ".py",
   "mimetype": "text/x-python",
   "name": "python",
   "nbconvert_exporter": "python",
   "pygments_lexer": "ipython3",
   "version": "3.7.6"
  }
 },
 "nbformat": 4,
 "nbformat_minor": 4
}
