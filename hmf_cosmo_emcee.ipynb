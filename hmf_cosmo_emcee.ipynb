{
 "cells": [
  {
   "cell_type": "markdown",
   "metadata": {},
   "source": [
    "Questo programma calcola la likelihood poissoniana associata al numero di ammassi di galassia ad un certo redshift e con una certa massa, al variare della cosmologia (in particolare facendo variare in modo crescente $\\Omega_m$ tra 0.15 e 0.45."
   ]
  },
  {
   "cell_type": "markdown",
   "metadata": {},
   "source": [
    "Importo le funzioni utili allo svolgimento del lavoro:"
   ]
  },
  {
   "cell_type": "code",
   "execution_count": 1,
   "metadata": {},
   "outputs": [],
   "source": [
    "import numpy as np\n",
    "#import pylab as plt\n",
    "import pyccl as ccl\n",
    "import matplotlib.pyplot as plt\n",
    "import emcee\n",
    "from astropy.cosmology import Planck13\n",
    "from astropy.cosmology import FlatLambdaCDM as FLCDM\n",
    "%matplotlib inline"
   ]
  },
  {
   "cell_type": "markdown",
   "metadata": {},
   "source": [
    "Definisco una funzione che mi permette di inserire solo i label al centro del bin, nei plot:"
   ]
  },
  {
   "cell_type": "code",
   "execution_count": 2,
   "metadata": {},
   "outputs": [],
   "source": [
    "def bins_labels(bins, **kwargs):\n",
    "    bin_w = 0.025\n",
    "    plt.xticks(np.arange(min(bins)+bin_w, max(bins)+bin_w, 2*bin_w), bins, **kwargs)"
   ]
  },
  {
   "cell_type": "markdown",
   "metadata": {},
   "source": [
    "Leggo i dati dalla tabella cat.txt (formata da due colonne), e li assegno a due array, M e z:"
   ]
  },
  {
   "cell_type": "code",
   "execution_count": 3,
   "metadata": {},
   "outputs": [],
   "source": [
    "GCdata = np.loadtxt('cat.txt', usecols=(0,1))\n",
    "#print(GCdata.shape)\n",
    "\n",
    "M = GCdata[:,0]\n",
    "z = GCdata[:,1]\n",
    "\n",
    "#print(len(M), len(z))\n",
    "#plt.scatter(M, 1+z)"
   ]
  },
  {
   "cell_type": "markdown",
   "metadata": {},
   "source": [
    "Definisco un array con i valori di $\\Omega_m$ che definiranno le diverse cosmologie. \n",
    "Definisco un binning in redshift e in massa, calcolo la likelihood poissoniana associata a ogni redshift per ogni cosmologia e poi plotto questi valori per fare un confronto.\n",
    "La forma della likelihood è:\n",
    "\n",
    "\\begin{equation}\n",
    "\\log(L) = \\sum_{i=M_{bin}} (n_i\\log(\\lambda_i)-\\lambda_i)\\ \\ \\forall z_{bin}, \n",
    "\\end{equation}\n",
    "\n",
    "data $P_{\\lambda}(n)=\\frac{\\lambda^n}{n!}e^{-\\lambda}$; dove $n_i$ è il numero di ammassi per bin di z e di massa, $\\lambda_i$ è il valore teorico asssociato, calcolato grazie alla routine pyccl. Escludo il termine $-\\log(n!)$"
   ]
  },
  {
   "cell_type": "markdown",
   "metadata": {},
   "source": [
    "## Problema (forse):\n",
    "Alla fine della funzione sommo la likelihood calcolata per ogni redshift perchè emcee voleva un solo valore per logl, è giusto? "
   ]
  },
  {
   "cell_type": "code",
   "execution_count": null,
   "metadata": {},
   "outputs": [],
   "source": [
    "def log_likelihood(theta, z, M):\n",
    "    \n",
    "    for r in theta:    \n",
    "        cosmo = ccl.Cosmology(Omega_c=0.86*r, Omega_b=0.14*r, h=0.67, A_s=2.1e-9, n_s=0.96)\n",
    "        m200c = ccl.halos.MassDef200c()\n",
    "        cs = ccl.halos.MassFuncTinker08(cosmo, mass_def=m200c)\n",
    "\n",
    "        cosmo_vol = FLCDM(H0 = 67.3, Om0 = r)\n",
    "\n",
    "        z_bin = np.arange(0.05, 2.15, 0.1)\n",
    "        #print(z_bin)\n",
    "        M_bin = np.arange(14.025, 15.525, 0.05)\n",
    "        #print(M_bin)\n",
    "\n",
    "        bins = np.round(np.arange(14,15.6,0.05),3)\n",
    "\n",
    "        i = 0\n",
    "        k = 0\n",
    "        log_l = []\n",
    "        \n",
    "        for red in z_bin:\n",
    "            M_z = M[(z>=red-0.05) & (z<red+0.05)]\n",
    "            plt.figure()\n",
    "            n_obs, bins_hist, patches = plt.hist(M_z, bins, edgecolor = 'r', facecolor = 'red', alpha = 0.2)\n",
    "\n",
    "            N = []\n",
    "            log_p = []\n",
    "            j = 0\n",
    "            for mass in M_bin:\n",
    "                ind_exp = np.arange(mass-0.025, mass+0.025,0.005)\n",
    "                masses = 10**ind_exp\n",
    "                nm = cs.get_mass_function(cosmo, masses, 1/(1+red))\n",
    "                v_min = cosmo_vol.comoving_volume(red-0.05).value \n",
    "                v_max = cosmo_vol.comoving_volume(red+0.05).value \n",
    "                v_shell = (v_max-v_min)*0.36\n",
    "                #print(v_max, v_min, v_shell)\n",
    "                Nm = nm*v_shell\n",
    "                k = np.trapz(Nm, x = ind_exp)\n",
    "                N.append(k)\n",
    "                log_p.append(n_obs[j]*np.log(k)-k)\n",
    "                j += 1\n",
    "            log_l.append(np.sum(log_p))  \n",
    "            #bins_labels(bins, fontsize = 10)\n",
    "            #plt.scatter(M_bin, N, marker = '.')\n",
    "            #plt.savefig('mass_distr_%d.png' %i, bbox_inches = 'tight')\n",
    "            plt.close()\n",
    "            i += 1\n",
    "        #print(log_l)\n",
    "        \n",
    "        #plt.scatter(z_bin, log_l, label='Om = %.2f'%r) \n",
    "        #plt.xlabel('z')\n",
    "        #plt.ylabel('Log(L)')\n",
    "        #plt.legend()\n",
    "        #plt.savefig('likel_om_Tink.png', bbox_inches = 'tight')\n",
    "        log_l = np.sum(log_l)\n",
    "        \n",
    "    return(log_l)"
   ]
  },
  {
   "cell_type": "code",
   "execution_count": null,
   "metadata": {},
   "outputs": [],
   "source": [
    "def log_prior(theta):\n",
    "    Om0 = theta\n",
    "    if  Om0 > 0:\n",
    "        return 0.0\n",
    "    return -np.inf"
   ]
  },
  {
   "cell_type": "code",
   "execution_count": null,
   "metadata": {},
   "outputs": [],
   "source": [
    "def log_posterior(theta, z, M):\n",
    "    lp = log_prior(theta)\n",
    "    if not np.isfinite(lp):\n",
    "        return -np.inf\n",
    "    logl = log_likelihood(theta, z, M)\n",
    "    logpos = logl+lp\n",
    "    return logpos, lp, logl"
   ]
  },
  {
   "cell_type": "code",
   "execution_count": null,
   "metadata": {},
   "outputs": [],
   "source": [
    "pos = [0.3] + 1e-4 * np.random.randn(16, 1)\n",
    "nwalkers, ndim = pos.shape\n",
    "\n",
    "sampler = emcee.EnsembleSampler(nwalkers, ndim, log_posterior, args=(z, M))\n",
    "sampler.run_mcmc(pos, 2000, progress=True);"
   ]
  },
  {
   "cell_type": "markdown",
   "metadata": {},
   "source": [
    "In ogni caso emcee sta andando, spero facendo le cose giuste; credo che ci vorrà un po' perchè è molto lento"
   ]
  }
 ],
 "metadata": {
  "kernelspec": {
   "display_name": "Python 3",
   "language": "python",
   "name": "python3"
  },
  "language_info": {
   "codemirror_mode": {
    "name": "ipython",
    "version": 3
   },
   "file_extension": ".py",
   "mimetype": "text/x-python",
   "name": "python",
   "nbconvert_exporter": "python",
   "pygments_lexer": "ipython3",
   "version": "3.7.6"
  }
 },
 "nbformat": 4,
 "nbformat_minor": 4
}
